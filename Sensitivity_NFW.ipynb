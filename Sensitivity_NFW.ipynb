{
 "cells": [
  {
   "cell_type": "code",
   "execution_count": 1,
   "id": "72afea60",
   "metadata": {},
   "outputs": [],
   "source": [
    "import os,time,sys\n",
    "import matplotlib.pyplot as plt \n",
    "import numpy as np\n",
    "from charon import propa\n",
    "from charon import profile\n",
    "import charon.physicsconstants as PC\n",
    "pc = PC.PhysicsConstants()\n",
    "from Spectra_functions import Spectra_generator, Spectra_interpolation, Flux_generator, J_interpolation, Flux_interpolation, Signal_PDF \n",
    "from LikelihoodFunctions import Sensitivity, Background_cut\n",
    "from scipy.interpolate import interp1d"
   ]
  },
  {
   "cell_type": "code",
   "execution_count": 2,
   "id": "3444e436",
   "metadata": {},
   "outputs": [],
   "source": [
    "sys.path.append('/home/dvaldenaire/Python/Analysis/DMfit/DMfit')\n",
    "from modeling import PdfBase, Model, Parameter\n",
    "from data_DM import DataSet\n",
    "from llh import LikelihoodRatioTest"
   ]
  },
  {
   "cell_type": "code",
   "execution_count": 3,
   "id": "97b04fb3",
   "metadata": {},
   "outputs": [],
   "source": [
    "mass_range = np.logspace(4,13,10) #define mass range between 1PeV(10⁶ GeV) and 1 ZeV (10^12 GeV)"
   ]
  },
  {
   "cell_type": "code",
   "execution_count": 4,
   "id": "7ac323b1",
   "metadata": {},
   "outputs": [
    {
     "name": "stdout",
     "output_type": "stream",
     "text": [
      "Initial Flux Loading: /usr/local/lib/python3.10/dist-packages/charon-0.1.0-py3.10.egg/charon/data/SpectraEW.hdf5\n",
      "Initial Flux Loading: /usr/local/lib/python3.10/dist-packages/charon-0.1.0-py3.10.egg/charon/data/SpectraEW.hdf5\n",
      "Parameter H1 already exists in the model, it won't be added again\n",
      "Parameter H0 already exists in the model, it won't be added again\n"
     ]
    },
    {
     "ename": "ValueError",
     "evalue": "setting an array element with a sequence. The requested array has an inhomogeneous shape after 2 dimensions. The detected shape was (1, 4) + inhomogeneous part.",
     "output_type": "error",
     "traceback": [
      "\u001b[0;31m---------------------------------------------------------------------------\u001b[0m",
      "\u001b[0;31mValueError\u001b[0m                                Traceback (most recent call last)",
      "Cell \u001b[0;32mIn[4], line 1\u001b[0m\n\u001b[0;32m----> 1\u001b[0m DecaySignalFraction_nue_NFW, DecayRate_nue_NFW \u001b[38;5;241m=\u001b[39m \u001b[43mSensitivity\u001b[49m\u001b[43m(\u001b[49m\u001b[43mmass_range\u001b[49m\u001b[38;5;241;43m=\u001b[39;49m\u001b[43mmass_range\u001b[49m\u001b[43m,\u001b[49m\u001b[43mchannel\u001b[49m\u001b[38;5;241;43m=\u001b[39;49m\u001b[38;5;124;43m'\u001b[39;49m\u001b[38;5;124;43mnuenue\u001b[39;49m\u001b[38;5;124;43m'\u001b[39;49m\u001b[43m,\u001b[49m\u001b[43m \u001b[49m\u001b[43mprocess\u001b[49m\u001b[38;5;241;43m=\u001b[39;49m\u001b[38;5;124;43m'\u001b[39;49m\u001b[38;5;124;43mdecay\u001b[39;49m\u001b[38;5;124;43m'\u001b[39;49m\u001b[43m,\u001b[49m\u001b[43m \u001b[49m\u001b[43mgalactic_profile\u001b[49m\u001b[38;5;241;43m=\u001b[39;49m\u001b[43mprofile\u001b[49m\u001b[38;5;241;43m.\u001b[39;49m\u001b[43mNFW\u001b[49m\u001b[43m)\u001b[49m\n",
      "File \u001b[0;32m~/Python/Analysis/LikelihoodFunctions.py:51\u001b[0m, in \u001b[0;36mSensitivity\u001b[0;34m(mass_range, channel, process, galactic_profile, CL, exposure)\u001b[0m\n\u001b[1;32m     49\u001b[0m lr\u001b[38;5;241m.\u001b[39mdata \u001b[38;5;241m=\u001b[39m ds\n\u001b[1;32m     50\u001b[0m \u001b[38;5;66;03m#SENSITIVITY:\u001b[39;00m\n\u001b[0;32m---> 51\u001b[0m xi_CL \u001b[38;5;241m=\u001b[39m \u001b[43mlr\u001b[49m\u001b[38;5;241;43m.\u001b[39;49m\u001b[43mupperlimit_llhinterval\u001b[49m\u001b[43m(\u001b[49m\u001b[38;5;124;43m'\u001b[39;49m\u001b[38;5;124;43mH1\u001b[39;49m\u001b[38;5;124;43m'\u001b[39;49m\u001b[43m,\u001b[49m\u001b[43m \u001b[49m\u001b[38;5;124;43m'\u001b[39;49m\u001b[38;5;124;43mH0\u001b[39;49m\u001b[38;5;124;43m'\u001b[39;49m\u001b[43m,\u001b[49m\u001b[43m \u001b[49m\u001b[43mCL\u001b[49m\u001b[43m)\u001b[49m\n\u001b[1;32m     52\u001b[0m \u001b[38;5;28mprint\u001b[39m(\u001b[38;5;124m'\u001b[39m\u001b[38;5;124mSignal fraction Ns/Ntot:\u001b[39m\u001b[38;5;124m'\u001b[39m, xi_CL)\n\u001b[1;32m     53\u001b[0m lr\u001b[38;5;241m.\u001b[39mmodels[\u001b[38;5;124m'\u001b[39m\u001b[38;5;124mH0\u001b[39m\u001b[38;5;124m'\u001b[39m]\u001b[38;5;241m.\u001b[39mparameters[\u001b[38;5;124m'\u001b[39m\u001b[38;5;124mParameterH0\u001b[39m\u001b[38;5;124m'\u001b[39m]\u001b[38;5;241m.\u001b[39mvalue \u001b[38;5;241m=\u001b[39m xi_CL\n",
      "File \u001b[0;32m~/Python/Analysis/DMfit/DMfit/llh/likelihoods.py:219\u001b[0m, in \u001b[0;36mLikelihoodRatioTest.upperlimit_llhinterval\u001b[0;34m(self, parname_fit, parname_fix, conf_level, ts_tol)\u001b[0m\n\u001b[1;32m    214\u001b[0m     deltaTS \u001b[38;5;241m=\u001b[39m \u001b[38;5;241m2.71\u001b[39m\n\u001b[1;32m    216\u001b[0m \u001b[38;5;66;03m# First, we try to find a range [param_low, param_up]\u001b[39;00m\n\u001b[1;32m    217\u001b[0m \u001b[38;5;66;03m# that contains the upper limit value\u001b[39;00m\n\u001b[0;32m--> 219\u001b[0m \u001b[38;5;28;43mself\u001b[39;49m\u001b[38;5;241;43m.\u001b[39;49m\u001b[43mfit\u001b[49m\u001b[43m(\u001b[49m\u001b[38;5;124;43m'\u001b[39;49m\u001b[38;5;124;43mH1\u001b[39;49m\u001b[38;5;124;43m'\u001b[39;49m\u001b[43m)\u001b[49m\n\u001b[1;32m    220\u001b[0m param_up \u001b[38;5;241m=\u001b[39m \u001b[38;5;28mself\u001b[39m\u001b[38;5;241m.\u001b[39mmodels[\u001b[38;5;124m'\u001b[39m\u001b[38;5;124mH1\u001b[39m\u001b[38;5;124m'\u001b[39m]\u001b[38;5;241m.\u001b[39mparameters[parname_fit]\u001b[38;5;241m.\u001b[39mvalue\n\u001b[1;32m    221\u001b[0m dTS \u001b[38;5;241m=\u001b[39m \u001b[38;5;241m0\u001b[39m\n",
      "File \u001b[0;32m~/Python/Analysis/DMfit/DMfit/llh/likelihoods.py:105\u001b[0m, in \u001b[0;36mLikelihoodRatioTest.fit\u001b[0;34m(self, hypothesis, **kwargs)\u001b[0m\n\u001b[1;32m     95\u001b[0m \u001b[38;5;28;01mdef\u001b[39;00m \u001b[38;5;21mfit\u001b[39m(\u001b[38;5;28mself\u001b[39m, hypothesis, \u001b[38;5;241m*\u001b[39m\u001b[38;5;241m*\u001b[39mkwargs):\n\u001b[1;32m     96\u001b[0m     \n\u001b[1;32m     97\u001b[0m     \u001b[38;5;66;03m# kwds = dict()\u001b[39;00m\n\u001b[0;32m   (...)\u001b[0m\n\u001b[1;32m    101\u001b[0m     \n\u001b[1;32m    102\u001b[0m     \u001b[38;5;66;03m#Minimizer work in factor space, not in value space\u001b[39;00m\n\u001b[0;32m--> 105\u001b[0m     names, init_values, limits, fixed \u001b[38;5;241m=\u001b[39m \u001b[43mnp\u001b[49m\u001b[38;5;241;43m.\u001b[39;49m\u001b[43mtranspose\u001b[49m\u001b[43m(\u001b[49m\u001b[43m[\u001b[49m\u001b[43m(\u001b[49m\u001b[43mpar\u001b[49m\u001b[38;5;241;43m.\u001b[39;49m\u001b[43mname\u001b[49m\u001b[43m,\u001b[49m\u001b[43m \u001b[49m\u001b[43mpar\u001b[49m\u001b[38;5;241;43m.\u001b[39;49m\u001b[43mfactor\u001b[49m\u001b[43m,\u001b[49m\u001b[43m \u001b[49m\u001b[43mpar\u001b[49m\u001b[38;5;241;43m.\u001b[39;49m\u001b[43mfactor_limits\u001b[49m\u001b[43m,\u001b[49m\u001b[43m \u001b[49m\u001b[43mpar\u001b[49m\u001b[38;5;241;43m.\u001b[39;49m\u001b[43mfixed\u001b[49m\u001b[43m)\u001b[49m\u001b[43m \u001b[49m\u001b[38;5;28;43;01mfor\u001b[39;49;00m\u001b[43m \u001b[49m\u001b[43mpar\u001b[49m\u001b[43m \u001b[49m\u001b[38;5;129;43;01min\u001b[39;49;00m\u001b[43m \u001b[49m\u001b[38;5;28;43mlist\u001b[39;49m\u001b[43m(\u001b[49m\u001b[38;5;28;43mself\u001b[39;49m\u001b[38;5;241;43m.\u001b[39;49m\u001b[43m_models\u001b[49m\u001b[43m[\u001b[49m\u001b[43mhypothesis\u001b[49m\u001b[43m]\u001b[49m\u001b[38;5;241;43m.\u001b[39;49m\u001b[43mparameters\u001b[49m\u001b[38;5;241;43m.\u001b[39;49m\u001b[43mvalues\u001b[49m\u001b[43m(\u001b[49m\u001b[43m)\u001b[49m\u001b[43m)\u001b[49m\u001b[43m]\u001b[49m\u001b[43m)\u001b[49m\n\u001b[1;32m    107\u001b[0m     \u001b[38;5;66;03m# self._minimizers[hypothesis] = Minuit.from_array_func(self._llhs[hypothesis], init_values, fix = fixed, limit = limits, name = names, **z)\u001b[39;00m\n\u001b[1;32m    108\u001b[0m     \u001b[38;5;66;03m## Somehow fixed and limits can not be set at the initializer in iminuit version 2.21\u001b[39;00m\n\u001b[1;32m    109\u001b[0m     \u001b[38;5;66;03m# self._minimizers[hypothesis] = Minuit(self._llhs[hypothesis], init_values, fixed = fixed, limits = limits, name = names, **z)\u001b[39;00m\n\u001b[1;32m    111\u001b[0m     \u001b[38;5;28mself\u001b[39m\u001b[38;5;241m.\u001b[39m_minimizers[hypothesis] \u001b[38;5;241m=\u001b[39m Minuit(\u001b[38;5;28mself\u001b[39m\u001b[38;5;241m.\u001b[39m_llhs[hypothesis], init_values, name\u001b[38;5;241m=\u001b[39mnames)\n",
      "File \u001b[0;32m<__array_function__ internals>:200\u001b[0m, in \u001b[0;36mtranspose\u001b[0;34m(*args, **kwargs)\u001b[0m\n",
      "File \u001b[0;32m~/.local/lib/python3.10/site-packages/numpy/core/fromnumeric.py:668\u001b[0m, in \u001b[0;36mtranspose\u001b[0;34m(a, axes)\u001b[0m\n\u001b[1;32m    601\u001b[0m \u001b[38;5;129m@array_function_dispatch\u001b[39m(_transpose_dispatcher)\n\u001b[1;32m    602\u001b[0m \u001b[38;5;28;01mdef\u001b[39;00m \u001b[38;5;21mtranspose\u001b[39m(a, axes\u001b[38;5;241m=\u001b[39m\u001b[38;5;28;01mNone\u001b[39;00m):\n\u001b[1;32m    603\u001b[0m     \u001b[38;5;124;03m\"\"\"\u001b[39;00m\n\u001b[1;32m    604\u001b[0m \u001b[38;5;124;03m    Returns an array with axes transposed.\u001b[39;00m\n\u001b[1;32m    605\u001b[0m \n\u001b[0;32m   (...)\u001b[0m\n\u001b[1;32m    666\u001b[0m \n\u001b[1;32m    667\u001b[0m \u001b[38;5;124;03m    \"\"\"\u001b[39;00m\n\u001b[0;32m--> 668\u001b[0m     \u001b[38;5;28;01mreturn\u001b[39;00m \u001b[43m_wrapfunc\u001b[49m\u001b[43m(\u001b[49m\u001b[43ma\u001b[49m\u001b[43m,\u001b[49m\u001b[43m \u001b[49m\u001b[38;5;124;43m'\u001b[39;49m\u001b[38;5;124;43mtranspose\u001b[39;49m\u001b[38;5;124;43m'\u001b[39;49m\u001b[43m,\u001b[49m\u001b[43m \u001b[49m\u001b[43maxes\u001b[49m\u001b[43m)\u001b[49m\n",
      "File \u001b[0;32m~/.local/lib/python3.10/site-packages/numpy/core/fromnumeric.py:54\u001b[0m, in \u001b[0;36m_wrapfunc\u001b[0;34m(obj, method, *args, **kwds)\u001b[0m\n\u001b[1;32m     52\u001b[0m bound \u001b[38;5;241m=\u001b[39m \u001b[38;5;28mgetattr\u001b[39m(obj, method, \u001b[38;5;28;01mNone\u001b[39;00m)\n\u001b[1;32m     53\u001b[0m \u001b[38;5;28;01mif\u001b[39;00m bound \u001b[38;5;129;01mis\u001b[39;00m \u001b[38;5;28;01mNone\u001b[39;00m:\n\u001b[0;32m---> 54\u001b[0m     \u001b[38;5;28;01mreturn\u001b[39;00m \u001b[43m_wrapit\u001b[49m\u001b[43m(\u001b[49m\u001b[43mobj\u001b[49m\u001b[43m,\u001b[49m\u001b[43m \u001b[49m\u001b[43mmethod\u001b[49m\u001b[43m,\u001b[49m\u001b[43m \u001b[49m\u001b[38;5;241;43m*\u001b[39;49m\u001b[43margs\u001b[49m\u001b[43m,\u001b[49m\u001b[43m \u001b[49m\u001b[38;5;241;43m*\u001b[39;49m\u001b[38;5;241;43m*\u001b[39;49m\u001b[43mkwds\u001b[49m\u001b[43m)\u001b[49m\n\u001b[1;32m     56\u001b[0m \u001b[38;5;28;01mtry\u001b[39;00m:\n\u001b[1;32m     57\u001b[0m     \u001b[38;5;28;01mreturn\u001b[39;00m bound(\u001b[38;5;241m*\u001b[39margs, \u001b[38;5;241m*\u001b[39m\u001b[38;5;241m*\u001b[39mkwds)\n",
      "File \u001b[0;32m~/.local/lib/python3.10/site-packages/numpy/core/fromnumeric.py:43\u001b[0m, in \u001b[0;36m_wrapit\u001b[0;34m(obj, method, *args, **kwds)\u001b[0m\n\u001b[1;32m     41\u001b[0m \u001b[38;5;28;01mexcept\u001b[39;00m \u001b[38;5;167;01mAttributeError\u001b[39;00m:\n\u001b[1;32m     42\u001b[0m     wrap \u001b[38;5;241m=\u001b[39m \u001b[38;5;28;01mNone\u001b[39;00m\n\u001b[0;32m---> 43\u001b[0m result \u001b[38;5;241m=\u001b[39m \u001b[38;5;28mgetattr\u001b[39m(\u001b[43masarray\u001b[49m\u001b[43m(\u001b[49m\u001b[43mobj\u001b[49m\u001b[43m)\u001b[49m, method)(\u001b[38;5;241m*\u001b[39margs, \u001b[38;5;241m*\u001b[39m\u001b[38;5;241m*\u001b[39mkwds)\n\u001b[1;32m     44\u001b[0m \u001b[38;5;28;01mif\u001b[39;00m wrap:\n\u001b[1;32m     45\u001b[0m     \u001b[38;5;28;01mif\u001b[39;00m \u001b[38;5;129;01mnot\u001b[39;00m \u001b[38;5;28misinstance\u001b[39m(result, mu\u001b[38;5;241m.\u001b[39mndarray):\n",
      "\u001b[0;31mValueError\u001b[0m: setting an array element with a sequence. The requested array has an inhomogeneous shape after 2 dimensions. The detected shape was (1, 4) + inhomogeneous part."
     ]
    }
   ],
   "source": [
    "DecaySignalFraction_nue_NFW, DecayRate_nue_NFW = Sensitivity(mass_range=mass_range,channel='nuenue', process='decay', galactic_profile=profile.NFW)"
   ]
  },
  {
   "cell_type": "code",
   "execution_count": null,
   "id": "43258c6d",
   "metadata": {},
   "outputs": [],
   "source": [
    "DecaySignalFraction_numu_NFW, DecayRate_numu_NFW = Sensitivity(mass_range=mass_range,channel='numunumu', process='decay', galactic_profile=profile.NFW)"
   ]
  },
  {
   "cell_type": "code",
   "execution_count": null,
   "id": "a1aae5fa",
   "metadata": {},
   "outputs": [],
   "source": [
    "DecaySignalFraction_nutau_NFW, DecayRate_nutau_NFW = Sensitivity(mass_range=mass_range,channel='nutaunutau', process='decay', galactic_profile=profile.NFW)"
   ]
  },
  {
   "cell_type": "code",
   "execution_count": null,
   "id": "c0ea0027",
   "metadata": {},
   "outputs": [],
   "source": [
    "DecaySignalFraction_bb_NFW, DecayRate_bb_NFW = Sensitivity(mass_range=mass_range,channel='bb', process='decay', galactic_profile=profile.NFW)"
   ]
  },
  {
   "cell_type": "code",
   "execution_count": null,
   "id": "0055c33d",
   "metadata": {
    "scrolled": true
   },
   "outputs": [],
   "source": [
    "color = ['limegreen', 'darkgreen', 'mediumblue', 'indigo','mediumvioletred','green']\n",
    "\n",
    "plt.plot(mass_range, DecaySignalFraction_nue_NFW, 'o-' ,label=r'NFW $\\nu_e \\nu_e$ decay', color=color[0])\n",
    "plt.plot(mass_range, DecaySignalFraction_numu_NFW, 'o-' ,label=r'NFW $\\nu_\\mu \\nu_\\mu$ decay', color=color[1])\n",
    "plt.plot(mass_range, DecaySignalFraction_nutau_NFW, 'o-' ,label=r'NFW $\\nu_\\tau \\nu_\\tau$ decay', color=color[2])\n",
    "plt.plot(mass_range, DecaySignalFraction_bb_NFW, 'o-' ,label=r'NFW $b\\bar{b}$ decay', color=color[3])\n",
    "plt.xscale('log')\n",
    "plt.xlabel(r'DM mass $m_\\chi$ [GeV]')\n",
    "plt.ylabel(r'$N_{signal}$')\n",
    "plt.grid()\n",
    "plt.legend()\n",
    "plt.legend(loc='upper center', bbox_to_anchor=(0.5, 1.2), ncols=2, fancybox=True, shadow=False)\n",
    "plt.show()"
   ]
  },
  {
   "cell_type": "code",
   "execution_count": null,
   "id": "3b3e5428",
   "metadata": {},
   "outputs": [],
   "source": [
    "plt.plot(mass_range, DecayRate_nue_NFW, 'o-' ,label=r'NFW $\\nu_e \\nu_e$ decay', color=color[0])\n",
    "plt.plot(mass_range, DecayRate_numu_NFW, 'o-' ,label=r'NFW $\\nu_\\mu \\nu_\\mu$ decay', color=color[1])\n",
    "plt.plot(mass_range, DecayRate_nutau_NFW, 'o-' ,label=r'NFW $\\nu_\\tau \\nu_\\tau$ decay', color=color[2])\n",
    "plt.plot(mass_range, DecayRate_bb_NFW, 'o-' ,label=r'NFW $b\\bar{b}$ decay', color=color[3])\n",
    "plt.yscale('log')\n",
    "plt.xscale('log')\n",
    "#plt.ylim(1e-6, 1e-5)\n",
    "plt.xlabel(r'DM mass $m_\\chi$ [GeV]')\n",
    "#plt.ylabel(r'$<\\sigma_A v>$')\n",
    "plt.ylabel(r'$\\tau_\\chi$ [s]')\n",
    "plt.grid()\n",
    "plt.legend()\n",
    "plt.legend(loc='upper center', bbox_to_anchor=(0.5, 1.2), ncols=2, fancybox=True, shadow=False)\n",
    "plt.show()"
   ]
  },
  {
   "cell_type": "code",
   "execution_count": null,
   "id": "adb8f673",
   "metadata": {},
   "outputs": [],
   "source": [
    "AnnSignalFraction_nue_NFW, CrossSection_nue_NFW = Sensitivity(mass_range=mass_range,channel='nuenue', process='ann', galactic_profile=profile.NFW)"
   ]
  },
  {
   "cell_type": "code",
   "execution_count": null,
   "id": "02f856bd",
   "metadata": {},
   "outputs": [],
   "source": [
    "AnnSignalFraction_numu_NFW, CrossSection_numu_NFW = Sensitivity(mass_range=mass_range,channel='numunumu', process='ann', galactic_profile=profile.NFW)"
   ]
  },
  {
   "cell_type": "code",
   "execution_count": null,
   "id": "858ac3f2",
   "metadata": {},
   "outputs": [],
   "source": [
    "AnnSignalFraction_nutau_NFW, CrossSection_nutau_NFW = Sensitivity(mass_range=mass_range,channel='nutaunutau', process='ann', galactic_profile=profile.NFW)"
   ]
  },
  {
   "cell_type": "code",
   "execution_count": null,
   "id": "a0fcd289",
   "metadata": {},
   "outputs": [],
   "source": [
    "AnnSignalFraction_bb_NFW, CrossSection_bb_NFW = Sensitivity(mass_range=mass_range,channel='bb', process='ann', galactic_profile=profile.NFW)"
   ]
  },
  {
   "cell_type": "code",
   "execution_count": null,
   "id": "9a0daac3",
   "metadata": {
    "scrolled": true
   },
   "outputs": [],
   "source": [
    "color = ['limegreen', 'darkgreen', 'mediumblue', 'indigo','mediumvioletred','green']\n",
    "\n",
    "plt.plot(mass_range, CrossSection_nue_NFW, 'o-' ,label=r'NFW $\\nu_e \\nu_e$ ann', color=color[0])\n",
    "plt.plot(mass_range, CrossSection_numu_NFW, 'o-' ,label=r'NFW $\\nu_\\mu \\nu_\\mu$ ann', color=color[1])\n",
    "plt.plot(mass_range, CrossSection_nutau_NFW, 'o-' ,label=r'NFW $\\nu_\\tau \\nu_\\tau$ ann', color=color[2])\n",
    "plt.plot(mass_range, CrossSection_bb_NFW, 'o-' ,label=r'NFW $b\\bar{b}$ ann', color=color[3])\n",
    "plt.yscale('log')\n",
    "plt.xscale('log')\n",
    "plt.xlabel(r'DM mass $m_\\chi$ [GeV]')\n",
    "plt.ylabel(r'$<\\sigma_A v> [cm^3 s^{-1}]$')\n",
    "plt.grid()\n",
    "plt.legend()\n",
    "plt.legend(loc='upper center', bbox_to_anchor=(0.5, 1.2), ncols=2, fancybox=True, shadow=False)\n",
    "plt.show()"
   ]
  },
  {
   "cell_type": "code",
   "execution_count": null,
   "id": "1d0d8b4c",
   "metadata": {},
   "outputs": [],
   "source": [
    "plt.plot(mass_range, AnnSignalFraction_nue_NFW, 'o-' ,label=r'NFW $\\nu_e \\nu_e$ ann', color=color[0])\n",
    "plt.plot(mass_range, AnnSignalFraction_numu_NFW, 'o-' ,label=r'NFW $\\nu_\\mu \\nu_\\mu$ ann', color=color[1])\n",
    "plt.plot(mass_range, AnnSignalFraction_nutau_NFW, 'o-' ,label=r'NFW $\\nu_\\tau \\nu_\\tau$ ann', color=color[2])\n",
    "plt.plot(mass_range, AnnSignalFraction_bb_NFW, 'o-' ,label=r'NFW $b\\bar{b}$ ann', color=color[3])\n",
    "plt.xscale('log')\n",
    "plt.xlabel(r'DM mass $m_\\chi$ [GeV]')\n",
    "plt.ylabel(r'$N_{signal}$')\n",
    "plt.grid()\n",
    "plt.legend()\n",
    "plt.legend(loc='upper center', bbox_to_anchor=(0.5, 1.2), ncols=2, fancybox=True, shadow=False)\n",
    "plt.show()"
   ]
  }
 ],
 "metadata": {
  "kernelspec": {
   "display_name": "Python 3 (ipykernel)",
   "language": "python",
   "name": "python3"
  },
  "language_info": {
   "codemirror_mode": {
    "name": "ipython",
    "version": 3
   },
   "file_extension": ".py",
   "mimetype": "text/x-python",
   "name": "python",
   "nbconvert_exporter": "python",
   "pygments_lexer": "ipython3",
   "version": "3.10.6"
  }
 },
 "nbformat": 4,
 "nbformat_minor": 5
}
