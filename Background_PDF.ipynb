{
 "cells": [
  {
   "cell_type": "code",
   "execution_count": 1,
   "id": "7c11c4b5",
   "metadata": {},
   "outputs": [],
   "source": [
    "import os,time,sys\n",
    "import matplotlib.pyplot as plt \n",
    "import numpy as np\n",
    "from charon import propa\n",
    "import charon.physicsconstants as PC\n",
    "pc = PC.PhysicsConstants()\n",
    "from ipynb.fs.full.func_plot_histo import plot_projections, plot_2DHist\n",
    "import random as rd\n",
    "import physt as phy"
   ]
  },
  {
   "cell_type": "code",
   "execution_count": 20,
   "id": "d05ed781",
   "metadata": {},
   "outputs": [],
   "source": [
    "font = {'family': 'serif',\n",
    "        'color':  'black',\n",
    "        'weight': 'normal',\n",
    "        'size': 15,\n",
    "        }"
   ]
  },
  {
   "cell_type": "code",
   "execution_count": 16,
   "id": "784aef00",
   "metadata": {},
   "outputs": [],
   "source": [
    "data = np.load('Burnsample/OscNext_Level7_v02.00_burnsample_2020_pass2_variables_NoCut.pkl',allow_pickle=True, encoding=\"latin1\")"
   ]
  },
  {
   "cell_type": "code",
   "execution_count": 3,
   "id": "87b00f45",
   "metadata": {},
   "outputs": [],
   "source": [
    "burnsample = data['burnsample']"
   ]
  },
  {
   "cell_type": "code",
   "execution_count": 4,
   "id": "24f07d86",
   "metadata": {},
   "outputs": [
    {
     "data": {
      "text/plain": [
       "dict_keys(['PID', 'NFiles', 'MJD_time', 'Accumulated_time', 'runid', 'reco_CascadeEnergy', 'reco_TrackEnergy', 'reco_TotalEnergy', 'reco_Zenith', 'reco_Azimuth', 'reco_Dec', 'reco_RA', 'reco_psi', 'L4OscNext_bool', 'L4muon_classifier_all', 'L4noise_classifier', 'L5nHit_DOMs', 'L7OscNext_bool', 'L7muon_classifier_all', 'L7muon_classifier_up', 'L7reco_vertex_z', 'L7reco_vertex_rho36', 'L7_ntop15', 'L7_nouter', 'L7reco_time', 'L7coincident_muon_bool', 'L7data_quality_cut', 'L7containment_cut'])"
      ]
     },
     "execution_count": 4,
     "metadata": {},
     "output_type": "execute_result"
    }
   ],
   "source": [
    "burnsample.keys()"
   ]
  },
  {
   "cell_type": "code",
   "execution_count": 5,
   "id": "e4afdb64",
   "metadata": {},
   "outputs": [],
   "source": [
    "def psi_f(RA,decl):\n",
    "    return np.arccos(np.cos(np.pi/2.-(-29.0078*np.pi/180))*np.cos(np.pi/2.-decl)\\\n",
    "                      +np.sin(np.pi/2.-(-29.0078*np.pi/180))*np.sin(np.pi/2.-decl)*\\\n",
    "                       np.cos(RA-266.4168*np.pi/180))"
   ]
  },
  {
   "cell_type": "code",
   "execution_count": 6,
   "id": "50d0beed",
   "metadata": {},
   "outputs": [],
   "source": [
    "# 2D table (E, psi)\n",
    "# 1st step : reco_Dec - associer 10 randoms RA et calculer les psi - increase psi statistics but not E stats\n",
    "# 1st bis : vérifie que Ra, dec -> psi (vérifier que fonction ok)\n",
    "# 2nd step : plot background PDF"
   ]
  },
  {
   "cell_type": "code",
   "execution_count": 7,
   "id": "054c0311",
   "metadata": {},
   "outputs": [],
   "source": [
    "DEC_reco = burnsample['reco_Dec']\n",
    "RA_reco = burnsample['reco_RA']\n",
    "psi_reco = burnsample['reco_psi']\n",
    "E_reco = burnsample['reco_TotalEnergy']"
   ]
  },
  {
   "cell_type": "code",
   "execution_count": 8,
   "id": "460035e6",
   "metadata": {},
   "outputs": [
    {
     "name": "stdout",
     "output_type": "stream",
     "text": [
      "psi computed = 2.7251981640916982 ; psi_reco = 2.725196713406548 \n",
      "\n"
     ]
    }
   ],
   "source": [
    "for i in range(1):\n",
    "    psi = psi_f(RA_reco[i], DEC_reco[i])\n",
    "    print('psi computed = {0} ; psi_reco = {1} \\n'.format(psi, psi_reco[i]))"
   ]
  },
  {
   "cell_type": "code",
   "execution_count": 9,
   "id": "d9ef6712",
   "metadata": {},
   "outputs": [],
   "source": [
    "RA_random_oversample = []\n",
    "DEC_oversample = []\n",
    "E_reco_oversample = []\n",
    "\n",
    "for i in range(len(DEC_reco)):\n",
    "    for j in range(10):\n",
    "        RA_random_oversample.append(rd.randint(0,360))\n",
    "        DEC_oversample.append(DEC_reco[i])\n",
    "        E_reco_oversample.append(E_reco[i])\n",
    "        \n",
    "E_reco_oversample = np.array(E_reco_oversample)"
   ]
  },
  {
   "cell_type": "markdown",
   "id": "1db2b77a",
   "metadata": {},
   "source": [
    "RA_random = []\n",
    "\n",
    "for i in range(len(DEC_reco)):\n",
    "    RA_random.append(rd.randint(0,360))"
   ]
  },
  {
   "cell_type": "code",
   "execution_count": 10,
   "id": "4de5fe44",
   "metadata": {},
   "outputs": [
    {
     "data": {
      "text/plain": [
       "(array([0.04319528, 0.10607449, 0.15665124, 0.22417804, 0.27475479,\n",
       "        0.30756134, 0.35759131, 0.37126071, 0.41254227, 0.43085926,\n",
       "        0.42730522, 0.4636658 , 0.48690377, 0.48553683, 0.51014174,\n",
       "        0.47897552, 0.51205545, 0.47159405, 0.47870213, 0.43195281,\n",
       "        0.38110267, 0.34720257, 0.31494281, 0.30072664, 0.25042327,\n",
       "        0.21488285, 0.16567304, 0.11591645, 0.07026068, 0.02515168]),\n",
       " array([0.00664227, 0.11061631, 0.21459036, 0.31856441, 0.42253845,\n",
       "        0.5265125 , 0.63048655, 0.7344606 , 0.83843464, 0.94240869,\n",
       "        1.04638274, 1.15035679, 1.25433083, 1.35830488, 1.46227893,\n",
       "        1.56625297, 1.67022702, 1.77420107, 1.87817512, 1.98214916,\n",
       "        2.08612321, 2.19009726, 2.2940713 , 2.39804535, 2.5020194 ,\n",
       "        2.60599345, 2.70996749, 2.81394154, 2.91791559, 3.02188964,\n",
       "        3.12586368]),\n",
       " [<matplotlib.patches.Polygon at 0x7fd7dbf7bd60>])"
      ]
     },
     "execution_count": 10,
     "metadata": {},
     "output_type": "execute_result"
    },
    {
     "data": {
      "image/png": "[encoded data removed]",
      "text/plain": [
       "<Figure size 600x400 with 1 Axes>"
      ]
     },
     "metadata": {},
     "output_type": "display_data"
    }
   ],
   "source": [
    "psi_scrambled = []\n",
    "\n",
    "for i in range(len(RA_random_oversample)):\n",
    "    psi_scrambled.append(psi_f(RA_random_oversample[i], DEC_oversample[i]))\n",
    "\n",
    "plt.figure(figsize=(6,4))\n",
    "plt.hist(psi_scrambled, bins=30, density=True, histtype = 'step' , linewidth = 1.5)\n"
   ]
  },
  {
   "cell_type": "markdown",
   "id": "50062e9a",
   "metadata": {},
   "source": [
    "psi_scrambled = []\n",
    "\n",
    "for i in range(len(RA_random)):\n",
    "    psi_scrambled.append(psi_f(RA_random[i], DEC_reco[i]))\n",
    "\n",
    "plt.figure(figsize=(6,4))\n",
    "plt.hist(psi_scrambled, bins=35, density=True)"
   ]
  },
  {
   "cell_type": "code",
   "execution_count": 11,
   "id": "eab62ffd",
   "metadata": {},
   "outputs": [],
   "source": [
    "psi_scrambled = np.array(psi_scrambled)\n",
    "Transpose = psi_scrambled[:,None]\n",
    "Background = Transpose*E_reco_oversample"
   ]
  },
  {
   "cell_type": "code",
   "execution_count": 12,
   "id": "f335cc0d",
   "metadata": {},
   "outputs": [],
   "source": [
    "Bgd_psi_edges = np.histogram_bin_edges(psi_scrambled, bins=len(psi_scrambled))\n",
    "Bgd_mass_edges = np.log10(np.histogram_bin_edges(E_reco, bins=len(E_reco_oversample)))"
   ]
  },
  {
   "cell_type": "code",
   "execution_count": 13,
   "id": "f140481f",
   "metadata": {},
   "outputs": [],
   "source": [
    "#plot_2DHist(Background,(Bgd_psi_edges,Bgd_mass_edges),'$\\psi_{reco}$ (deg)','$log_{10}(E_{reco})$','Background')"
   ]
  },
  {
   "cell_type": "code",
   "execution_count": 21,
   "id": "b824e8b9",
   "metadata": {},
   "outputs": [
    {
     "data": {
      "text/plain": [
       "Text(0.5, 1.0, 'Background PDF')"
      ]
     },
     "execution_count": 21,
     "metadata": {},
     "output_type": "execute_result"
    },
    {
     "data": {
      "image/png": "[encoded data removed]",
      "text/plain": [
       "<Figure size 640x480 with 1 Axes>"
      ]
     },
     "metadata": {},
     "output_type": "display_data"
    }
   ],
   "source": [
    "phy.h2(psi_scrambled, np.log10(E_reco_oversample), bins =[40,40]).plot(\"image\", cmap=\"plasma\", show_colorbar=False)\n",
    "plt.xlabel(\"$\\psi_{reco}$ (deg)\")\n",
    "plt.ylabel(\"$log_{10}(E_{reco})$\")\n",
    "plt.title('Background PDF', fontdict=font)"
   ]
  },
  {
   "cell_type": "code",
   "execution_count": null,
   "id": "14972acf",
   "metadata": {},
   "outputs": [],
   "source": []
  }
 ],
 "metadata": {
  "kernelspec": {
   "display_name": "Python 3 (ipykernel)",
   "language": "python",
   "name": "python3"
  },
  "language_info": {
   "codemirror_mode": {
    "name": "ipython",
    "version": 3
   },
   "file_extension": ".py",
   "mimetype": "text/x-python",
   "name": "python",
   "nbconvert_exporter": "python",
   "pygments_lexer": "ipython3",
   "version": "3.10.6"
  }
 },
 "nbformat": 4,
 "nbformat_minor": 5
}
